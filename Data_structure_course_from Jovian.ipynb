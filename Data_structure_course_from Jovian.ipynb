{
 "cells": [
  {
   "cell_type": "code",
   "execution_count": 2,
   "id": "e9d30207",
   "metadata": {},
   "outputs": [],
   "source": [
    "!pip install jovian --upgrade --quiet\n",
    "import jovian"
   ]
  },
  {
   "cell_type": "code",
   "execution_count": 3,
   "id": "f314b3fb",
   "metadata": {},
   "outputs": [],
   "source": [
    "from jovian.pythondsa import evaluate_test_case"
   ]
  },
  {
   "cell_type": "code",
   "execution_count": 4,
   "id": "7cce0a9a",
   "metadata": {},
   "outputs": [],
   "source": [
    "from jovian.pythondsa import evaluate_test_cases"
   ]
  },
  {
   "cell_type": "markdown",
   "id": "baee5003",
   "metadata": {},
   "source": [
    "## Identify Input and Output\n",
    "    input is a list\n",
    "    output is a number for rotation counts\n",
    "    1. register lo and hi of the list\n",
    "    2. find mid\n",
    "    3. check if mid meet the condition(mid)\n",
    "    4. while condition return None, binary_search left and right"
   ]
  },
  {
   "cell_type": "code",
   "execution_count": null,
   "id": "b937b893",
   "metadata": {},
   "outputs": [],
   "source": [
    "def count_rotations(list):  \n",
    "    \n",
    "    def condition(mid):\n",
    "        if list[mid]>list[mid+1]:\n",
    "            return mid+1\n",
    "        return None\n",
    "    return binary_search(0,len(list)-1, condition)\n",
    " \n",
    "def binary_search(lo, hi, condition):\n",
    "    mid = (lo+hi)//2\n",
    "    result = condition(mid)\n",
    "    while result is None :\n",
    "        binary_search(lo, mid, condition)\n",
    "        binary_search(mid+1, hi, condition)\n",
    "    return result\n",
    "    \n",
    "    \n",
    "result= count_rotations([10,11,12,0,1,3,4,5,7,8,9])\n",
    "result\n",
    "\n",
    "    "
   ]
  },
  {
   "cell_type": "code",
   "execution_count": 2,
   "id": "06f860c7",
   "metadata": {},
   "outputs": [
    {
     "ename": "KeyboardInterrupt",
     "evalue": "",
     "output_type": "error",
     "traceback": [
      "\u001b[1;31m---------------------------------------------------------------------------\u001b[0m",
      "\u001b[1;31mKeyboardInterrupt\u001b[0m                         Traceback (most recent call last)",
      "File \u001b[1;32m<timed exec>:1\u001b[0m, in \u001b[0;36m<module>\u001b[1;34m\u001b[0m\n",
      "\u001b[1;31mKeyboardInterrupt\u001b[0m: "
     ]
    }
   ],
   "source": [
    "%%time\n",
    "for i in range(1000000000):\n",
    "    j = i*i"
   ]
  },
  {
   "cell_type": "code",
   "execution_count": null,
   "id": "d006ff2d",
   "metadata": {},
   "outputs": [],
   "source": []
  }
 ],
 "metadata": {
  "kernelspec": {
   "display_name": "Python 3 (ipykernel)",
   "language": "python",
   "name": "python3"
  },
  "language_info": {
   "codemirror_mode": {
    "name": "ipython",
    "version": 3
   },
   "file_extension": ".py",
   "mimetype": "text/x-python",
   "name": "python",
   "nbconvert_exporter": "python",
   "pygments_lexer": "ipython3",
   "version": "3.9.7"
  }
 },
 "nbformat": 4,
 "nbformat_minor": 5
}
